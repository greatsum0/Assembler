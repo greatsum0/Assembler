{
 "metadata": {
  "language_info": {
   "codemirror_mode": {
    "name": "ipython",
    "version": 3
   },
   "file_extension": ".py",
   "mimetype": "text/x-python",
   "name": "python",
   "nbconvert_exporter": "python",
   "pygments_lexer": "ipython3",
   "version": "3.8.5-final"
  },
  "orig_nbformat": 2,
  "kernelspec": {
   "name": "python3",
   "display_name": "Python 3",
   "language": "python"
  }
 },
 "nbformat": 4,
 "nbformat_minor": 2,
 "cells": [
  {
   "cell_type": "code",
   "execution_count": 136,
   "metadata": {},
   "outputs": [],
   "source": [
    "def loadregs():\n",
    "    d = {}\n",
    "    with open(\"registers.txt\") as f:\n",
    "        for line in f:\n",
    "            (key, val) = line.split()\n",
    "            d[key] = int(val)\n",
    "    f.close()\n",
    "    return d"
   ]
  },
  {
   "cell_type": "code",
   "execution_count": 141,
   "metadata": {},
   "outputs": [],
   "source": [
    "def loadinstr():\n",
    "    d = {}\n",
    "    with open(\"instructions.txt\") as f:\n",
    "        for line in f:\n",
    "            (key, val) = line.split()\n",
    "            d[key] = val\n",
    "    f.close()\n",
    "    return d"
   ]
  },
  {
   "cell_type": "code",
   "execution_count": 142,
   "metadata": {},
   "outputs": [],
   "source": [
    "registers = loadregs()\n",
    "instructions = loadinstr()"
   ]
  },
  {
   "cell_type": "code",
   "execution_count": 143,
   "metadata": {},
   "outputs": [],
   "source": [
    "f= open(\"assembly.txt\",\"r\")\n",
    "code = f.read()\n",
    "f.close()\n",
    "instrs = code.split(\"\\n\")"
   ]
  },
  {
   "cell_type": "code",
   "execution_count": 144,
   "metadata": {},
   "outputs": [
    {
     "output_type": "execute_result",
     "data": {
      "text/plain": [
       "['add $t0 $s1 $s2', 'add $s3 $s4 $s5', 'sub $s3 $s1 $t0']"
      ]
     },
     "metadata": {},
     "execution_count": 144
    }
   ],
   "source": [
    "instrs"
   ]
  },
  {
   "cell_type": "code",
   "execution_count": 145,
   "metadata": {},
   "outputs": [],
   "source": [
    "def reg2bin(reg):\n",
    "    return bin(registers.get(reg))[2:].zfill(5)"
   ]
  },
  {
   "cell_type": "code",
   "execution_count": 146,
   "metadata": {},
   "outputs": [],
   "source": [
    "f = open(\"output.txt\",\"w\")"
   ]
  },
  {
   "cell_type": "code",
   "execution_count": 147,
   "metadata": {},
   "outputs": [],
   "source": [
    "for instr in instrs:\n",
    "    word = instr.split(\" \")\n",
    "    regs = reg2bin(word[2])\n",
    "    regs = regs + reg2bin(word[3])\n",
    "    regs = regs + reg2bin(word[1])\n",
    "    target_instr = instructions.get(word[0])\n",
    "    result = target_instr[0:6]+regs+target_instr[21:32]\n",
    "    f.write(result+\"\\n\")"
   ]
  },
  {
   "cell_type": "code",
   "execution_count": 148,
   "metadata": {},
   "outputs": [],
   "source": [
    "f.close()"
   ]
  }
 ]
}