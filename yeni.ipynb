{
 "metadata": {
  "language_info": {
   "codemirror_mode": {
    "name": "ipython",
    "version": 3
   },
   "file_extension": ".py",
   "mimetype": "text/x-python",
   "name": "python",
   "nbconvert_exporter": "python",
   "pygments_lexer": "ipython3",
   "version": "3.8.5-final"
  },
  "orig_nbformat": 2,
  "kernelspec": {
   "name": "python3",
   "display_name": "Python 3",
   "language": "python"
  }
 },
 "nbformat": 4,
 "nbformat_minor": 2,
 "cells": [
  {
   "cell_type": "code",
   "execution_count": 181,
   "metadata": {},
   "outputs": [],
   "source": [
    "import os\n",
    "\n",
    "def load_regs():\n",
    "    d = {}\n",
    "    with open(\"registers.txt\") as f:\n",
    "        for line in f:\n",
    "            (key, val) = line.split()\n",
    "            d[key] = int(val)\n",
    "    f.close()\n",
    "    return d\n",
    "\n",
    "def load_instr():\n",
    "    d = {}\n",
    "    with open(\"instructions.txt\") as f:\n",
    "        for line in f:\n",
    "            (key, val) = line.split()\n",
    "            d[key] = val\n",
    "    f.close()\n",
    "    return d\n",
    "\n",
    "def load_labels():\n",
    "    d = {}\n",
    "    with open(\"labels.txt\") as f:\n",
    "        for line in f:\n",
    "            (key, val) = line.split()\n",
    "            d[key] = val\n",
    "    f.close()\n",
    "    return d\n",
    "\n",
    "def reg2bin(reg):\n",
    "    return bin(registers.get(reg))[2:].zfill(5)\n",
    "\n",
    "def bin2hex(binary):\n",
    "    return \"0x\"+hex(int(binary, 2))[2:].zfill(8)\n",
    "\n",
    "def format_word(instr):\n",
    "    instr = instr.replace(\":\",\"\",1)\n",
    "    instr = instr.replace(\",\",\" \",2)\n",
    "    instr = instr.replace(\"(\",\" \",1)\n",
    "    instr = instr.replace(\")\",\" \",1)\n",
    "    return instr\n",
    "\n",
    "def label_writer(word):\n",
    "    label_file = open(\"labels.txt\",\"a+\")\n",
    "    label_file.write(word[0]+\" \"+str(address)+\"\\n\")\n",
    "    label_file.close()\n",
    "\n",
    "def r_type(instr):\n",
    "    i=0\n",
    "    if(len(instr)>4):\n",
    "        i+=1\n",
    "    word = rtype.replace(\"op\",instructions[instr[0+i]][:6])\n",
    "    word = word.replace(\"rd\",reg2bin(instr[1+i]))\n",
    "    word = word.replace(\"rs\",reg2bin(instr[2+i]))\n",
    "    word = word.replace(\"rt\",reg2bin(instr[3+i]))\n",
    "    word = word.replace(\"sh\",reg2bin(\"$zero\"))\n",
    "    word = word.replace(\"fn\",instructions[instr[0+i]][26:])\n",
    "    return word\n",
    "\n",
    "def i_type1(instr):\n",
    "    if(len(instr)>4):\n",
    "        i+=1\n",
    "    word = itype1.replace(\"op\",instructions[instr[0+i]][:6])\n",
    "    word = word.replace(\"rt\",reg2bin(instr[1+i]))\n",
    "    word = word.replace(\"off\",bin(int(instr[2+i]))[2:].zfill(16))\n",
    "    word = word.replace(\"rs\",reg2bin(instr[3+i]))\n",
    "    return word\n",
    "\n",
    "def i_type2(instr):\n",
    "    if(len(instr)>4):\n",
    "        i+=1\n",
    "    word = itype2.replace(\"op\",instructions[instr[0+i]][:6])\n",
    "    word = word.replace(\"rt\",reg2bin(instr[1+i]))\n",
    "    word = word.replace(\"rs\",reg2bin(instr[2+i]))\n",
    "    if(instr[i+3] in labels):\n",
    "        word = word.replace(\"addr\",bin(int(int(labels[instr[i+3]])/4))[2:].zfill(16))\n",
    "    elif(int(word[i+3])<0):\n",
    "        val = bin(-int(instr[i+3][1:])+(1<<int(instr[i+3][1:])))\n",
    "        word = word.replace(\"addr\",val[2:].zfill(16))\n",
    "    else:\n",
    "        val = bin(int(int(instr[i+3])/4))\n",
    "        word = word.replace(\"addr\",val[2:].zfill(16))\n",
    "    word = word.replace(\"addr\",bin(int(int(instr[3+i])/4))[2:].zfill(16))\n",
    "    return word\n",
    "\n",
    "def j_type(instr):\n",
    "    if(len(instr)>4):\n",
    "        i+=1\n",
    "    word = jtype.replace(\"op\",instructions[instr[0+i]][:6])\n",
    "    word = word.replace(\"addr\",bin(int(int(instr[1+i])/4))[2:].zfill(26))\n",
    "    return word"
   ]
  },
  {
   "cell_type": "code",
   "execution_count": 182,
   "metadata": {},
   "outputs": [],
   "source": [
    "global rtype\n",
    "global itype1\n",
    "global itype2\n",
    "global jtype"
   ]
  },
  {
   "cell_type": "code",
   "execution_count": 183,
   "metadata": {},
   "outputs": [],
   "source": [
    "registers = load_regs()\n",
    "instructions = load_instr()\n",
    "address = 4194304\n"
   ]
  },
  {
   "cell_type": "code",
   "execution_count": 188,
   "metadata": {},
   "outputs": [],
   "source": [
    "for instr in instrs:\n",
    "    if(len(instr)!=0 and instr[0] != \"#\"):\n",
    "        word = format_word(instr)\n",
    "        dollar = word.count(\"$\")\n",
    "        word = word.split()\n",
    "        if(dollar == 3 and len(word)>4):\n",
    "            label_writer(word)\n",
    "        elif(dollar == 2 and len(word)>4):\n",
    "            label_writer(word)\n",
    "        elif((dollar == 1 or dollar == 0)and len(word)>2):\n",
    "            label_writer(word)\n",
    "    address+=4\n",
    "labels = load_labels()"
   ]
  },
  {
   "cell_type": "code",
   "execution_count": 189,
   "metadata": {},
   "outputs": [
    {
     "output_type": "execute_result",
     "data": {
      "text/plain": [
       "{'else': '4194480',\n",
       " 'loop1': '4194488',\n",
       " 'elsee': '4194496',\n",
       " 'Loop': '4194516',\n",
       " 'other': '4194528',\n",
       " 'Else': '4194552',\n",
       " 'Exit': '4194556',\n",
       " 'main': '4194568',\n",
       " 'around': '4194612',\n",
       " 'end': '4194652'}"
      ]
     },
     "metadata": {},
     "execution_count": 189
    }
   ],
   "source": [
    "labels"
   ]
  },
  {
   "cell_type": "code",
   "execution_count": 186,
   "metadata": {},
   "outputs": [],
   "source": [
    "f= open(\"netest.txt\",\"r\")\n",
    "code = f.read()\n",
    "instrs = code.split(\"\\n\")\n",
    "f.close()\n",
    "f = open(\"output.txt\",\"w\")"
   ]
  },
  {
   "cell_type": "code",
   "execution_count": 190,
   "metadata": {},
   "outputs": [
    {
     "output_type": "stream",
     "name": "stdout",
     "text": [
      "0x00008020\n\n0x00008020\n\n0x00008020\n\n0x00008020\n\n0x00008020\n\n0x00008020\n\n0x00008020\n\n0x00008020\n\n0x00008020\n\n0x00008020\n\n0x00008020\n\n0x00008020\n\n0x00008020\n\n0x00008020\n\n0x00008020\n\n0x00008020\n\n0x00008020\n\n0x00008020\n\n0x00008020\n\n0x00008020\n\n0x00008020\n\n0x00008020\n\n0x00008020\n\n0x00008020\n\n0x00008020\n\n0x00008020\n\n0x00008020\n\n0x00008020\n\n0x00008020\n\n0x00008020\n\n0x00008020\n\n0x00008020\n\n0x00008020\n\n0x00008020\n\n0x00008020\n\n0x00008020\n\n0x00008020\n\n0x00008020\n\n0x00008020\n\n"
     ]
    }
   ],
   "source": [
    "for instr in instrs:\n",
    "    if(len(instr)!=0 and instr[0] != \"#\"):\n",
    "        rtype = \"oprsrtrdshfn\"\n",
    "        itype1 = \"oprsrtoff\"\n",
    "        itype2 = \"oprsrtaddr\"\n",
    "        jtype= \"opaddr\"\n",
    "        instr = format_word(instrs[0])\n",
    "        dollar = instr.count(\"$\")\n",
    "        instr = instr.split()\n",
    "        if(dollar == 3):\n",
    "            print(bin2hex(r_type(instr))+\"\\n\")\n",
    "        elif(dollar == 2 and instr[-1][0] == \"$\"):\n",
    "            print(bin2hex(i_type1(instr))+\"\\n\")\n",
    "        elif(dollar == 2):\n",
    "            print(bin2hex(i_type2(instr))+\"\\n\")\n",
    "        elif(dollar == 1 or dollar == 0):\n",
    "            print((j_type(instr))+\"\\n\")\n",
    "    f.close()"
   ]
  },
  {
   "cell_type": "code",
   "execution_count": null,
   "metadata": {},
   "outputs": [],
   "source": [
    "101000_00001_00100_00000_00000_000010_10"
   ]
  },
  {
   "cell_type": "code",
   "execution_count": 195,
   "metadata": {},
   "outputs": [
    {
     "output_type": "execute_result",
     "data": {
      "text/plain": [
       "12"
      ]
     },
     "metadata": {},
     "execution_count": 195
    }
   ],
   "source": [
    "0b001100"
   ]
  },
  {
   "cell_type": "code",
   "execution_count": 196,
   "metadata": {},
   "outputs": [
    {
     "output_type": "execute_result",
     "data": {
      "text/plain": [
       "3"
      ]
     },
     "metadata": {},
     "execution_count": 196
    }
   ],
   "source": [
    "0b001100 >> 2"
   ]
  },
  {
   "cell_type": "code",
   "execution_count": 197,
   "metadata": {},
   "outputs": [
    {
     "output_type": "execute_result",
     "data": {
      "text/plain": [
       "1048586"
      ]
     },
     "metadata": {},
     "execution_count": 197
    }
   ],
   "source": [
    "4194344 >> 2"
   ]
  },
  {
   "cell_type": "code",
   "execution_count": 203,
   "metadata": {},
   "outputs": [
    {
     "output_type": "execute_result",
     "data": {
      "text/plain": [
       "'00000100000000000000001010'"
      ]
     },
     "metadata": {},
     "execution_count": 203
    }
   ],
   "source": [
    "(bin(4194344 >> 2)[2:].zfill(26))"
   ]
  },
  {
   "cell_type": "code",
   "execution_count": null,
   "metadata": {},
   "outputs": [],
   "source": []
  }
 ]
}